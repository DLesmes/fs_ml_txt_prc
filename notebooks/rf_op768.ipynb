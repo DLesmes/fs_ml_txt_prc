{
 "cells": [
  {
   "cell_type": "markdown",
   "metadata": {},
   "source": [
    " # requiriments"
   ]
  },
  {
   "cell_type": "code",
   "execution_count": 1,
   "metadata": {
    "tags": []
   },
   "outputs": [
    {
     "name": "stdout",
     "output_type": "stream",
     "text": [
      "2.4.0+cu121\n",
      "0.19.0+cu121\n"
     ]
    }
   ],
   "source": [
    "import torch, torchvision\n",
    "print(torch.__version__)        # Should show 2.4.0\n",
    "print(torchvision.__version__)  # Should show 0.19.0"
   ]
  },
  {
   "cell_type": "code",
   "execution_count": 2,
   "metadata": {
    "tags": []
   },
   "outputs": [],
   "source": [
    "# base\n",
    "import sys\n",
    "import os\n",
    "#cleaning\n",
    "import re\n",
    "#manupulate numbers\n",
    "import numpy as np\n",
    "import pandas as pd\n",
    "import random\n",
    "#Graph\n",
    "import seaborn  as sns\n",
    "import matplotlib.pyplot as plt\n",
    "from datetime import date,datetime,timedelta\n",
    "#store\n",
    "import pickle\n",
    "#method\n",
    "#sys.path.append('..')\n",
    "#from src.settings import Settings\n",
    "#settings = Settings()\n",
    "#embeds\n",
    "import torch\n",
    "import torch.nn.functional as F\n",
    "import open_clip\n",
    "#modeling\n",
    "from sklearn.multiclass import OneVsOneClassifier, OneVsRestClassifier\n",
    "from sklearn.model_selection import train_test_split, GridSearchCV\n",
    "from sklearn.metrics import classification_report, confusion_matrix, accuracy_score, f1_score\n",
    "#ensamble\n",
    "from sklearn.ensemble import RandomForestClassifier, ExtraTreesClassifier"
   ]
  },
  {
   "cell_type": "code",
   "execution_count": 3,
   "metadata": {
    "tags": []
   },
   "outputs": [
    {
     "data": {
      "application/vnd.jupyter.widget-view+json": {
       "model_id": "7f6d7724e7754a81a4c40d0cb75f8877",
       "version_major": 2,
       "version_minor": 0
      },
      "text/plain": [
       "open_clip_pytorch_model.bin:   0%|          | 0.00/1.48G [00:00<?, ?B/s]"
      ]
     },
     "metadata": {},
     "output_type": "display_data"
    },
    {
     "data": {
      "application/vnd.jupyter.widget-view+json": {
       "model_id": "ab15ebf1849a4edab74968447b95320a",
       "version_major": 2,
       "version_minor": 0
      },
      "text/plain": [
       "open_clip_config.json:   0%|          | 0.00/891 [00:00<?, ?B/s]"
      ]
     },
     "metadata": {},
     "output_type": "display_data"
    },
    {
     "name": "stderr",
     "output_type": "stream",
     "text": [
      "/var/cache/pypoetry/virtualenvs/app-K4bO3-is-py3.10/lib/python3.10/site-packages/open_clip/factory.py:129: FutureWarning: You are using `torch.load` with `weights_only=False` (the current default value), which uses the default pickle module implicitly. It is possible to construct malicious pickle data which will execute arbitrary code during unpickling (See https://github.com/pytorch/pytorch/blob/main/SECURITY.md#untrusted-models for more details). In a future release, the default value for `weights_only` will be flipped to `True`. This limits the functions that could be executed during unpickling. Arbitrary objects will no longer be allowed to be loaded via this mode unless they are explicitly allowlisted by the user via `torch.serialization.add_safe_globals`. We recommend you start setting `weights_only=True` for any use case where you don't have full control of the loaded file. Please open an issue on GitHub for any issues related to this experimental feature.\n",
      "  checkpoint = torch.load(checkpoint_path, map_location=map_location)\n",
      "/var/cache/pypoetry/virtualenvs/app-K4bO3-is-py3.10/lib/python3.10/site-packages/huggingface_hub/file_download.py:795: FutureWarning: `resume_download` is deprecated and will be removed in version 1.0.0. Downloads always resume when possible. If you want to force a new download, use `force_download=True`.\n",
      "  warnings.warn(\n"
     ]
    },
    {
     "data": {
      "application/vnd.jupyter.widget-view+json": {
       "model_id": "c12fa0e24c254bdd8da75b90fa49b4ea",
       "version_major": 2,
       "version_minor": 0
      },
      "text/plain": [
       "tokenizer_config.json:   0%|          | 0.00/20.7k [00:00<?, ?B/s]"
      ]
     },
     "metadata": {},
     "output_type": "display_data"
    },
    {
     "data": {
      "application/vnd.jupyter.widget-view+json": {
       "model_id": "db5b7918e0b74f57b8556dcba51c85f6",
       "version_major": 2,
       "version_minor": 0
      },
      "text/plain": [
       "tokenizer.json:   0%|          | 0.00/16.4M [00:00<?, ?B/s]"
      ]
     },
     "metadata": {},
     "output_type": "display_data"
    },
    {
     "data": {
      "application/vnd.jupyter.widget-view+json": {
       "model_id": "50a593da23274a1b918d925ab2ad8d15",
       "version_major": 2,
       "version_minor": 0
      },
      "text/plain": [
       "special_tokens_map.json:   0%|          | 0.00/2.20k [00:00<?, ?B/s]"
      ]
     },
     "metadata": {},
     "output_type": "display_data"
    }
   ],
   "source": [
    "MODEL_ID = \"hf-hub:timm/ViT-B-16-SigLIP-i18n-256\"\n",
    "model, preprocess = open_clip.create_model_from_pretrained(\n",
    "    MODEL_ID,\n",
    "    device='cuda',\n",
    "    precision='fp16'\n",
    ")\n",
    "model.to('cuda')\n",
    "model.eval()\n",
    "tokenizer = open_clip.get_tokenizer(MODEL_ID)"
   ]
  },
  {
   "cell_type": "code",
   "execution_count": 5,
   "metadata": {
    "tags": []
   },
   "outputs": [],
   "source": [
    "def get_prompt_embeddings(prompt: str):\n",
    "    text_input = tokenizer(prompt).to('cuda')  # Tokenize the labels\n",
    "    with torch.no_grad():\n",
    "        text_features = model.encode_text(text_input)\n",
    "\n",
    "    text_features = text_features / text_features.norm(dim=-1, keepdim=True)\n",
    "\n",
    "    return text_features"
   ]
  },
  {
   "cell_type": "markdown",
   "metadata": {},
   "source": [
    " # Data"
   ]
  },
  {
   "cell_type": "code",
   "execution_count": 19,
   "metadata": {
    "tags": []
   },
   "outputs": [
    {
     "data": {
      "text/html": [
       "<div>\n",
       "<style scoped>\n",
       "    .dataframe tbody tr th:only-of-type {\n",
       "        vertical-align: middle;\n",
       "    }\n",
       "\n",
       "    .dataframe tbody tr th {\n",
       "        vertical-align: top;\n",
       "    }\n",
       "\n",
       "    .dataframe thead th {\n",
       "        text-align: right;\n",
       "    }\n",
       "</style>\n",
       "<table border=\"1\" class=\"dataframe\">\n",
       "  <thead>\n",
       "    <tr style=\"text-align: right;\">\n",
       "      <th></th>\n",
       "      <th>uid</th>\n",
       "      <th>city</th>\n",
       "      <th>description</th>\n",
       "      <th>homeType</th>\n",
       "      <th>latitude</th>\n",
       "      <th>longitude</th>\n",
       "      <th>garageSpaces</th>\n",
       "      <th>hasSpa</th>\n",
       "      <th>yearBuilt</th>\n",
       "      <th>numOfPatioAndPorchFeatures</th>\n",
       "      <th>lotSizeSqFt</th>\n",
       "      <th>avgSchoolRating</th>\n",
       "      <th>MedianStudentsPerTeacher</th>\n",
       "      <th>numOfBathrooms</th>\n",
       "      <th>numOfBedrooms</th>\n",
       "      <th>priceRange</th>\n",
       "    </tr>\n",
       "  </thead>\n",
       "  <tbody>\n",
       "    <tr>\n",
       "      <th>0</th>\n",
       "      <td>1748</td>\n",
       "      <td>austin</td>\n",
       "      <td>MULTIPLE OFFERS submit best &amp; final to Agent b...</td>\n",
       "      <td>Single Family</td>\n",
       "      <td>30.380089</td>\n",
       "      <td>-97.800621</td>\n",
       "      <td>0</td>\n",
       "      <td>False</td>\n",
       "      <td>1988</td>\n",
       "      <td>0</td>\n",
       "      <td>102366.0</td>\n",
       "      <td>7.000000</td>\n",
       "      <td>17</td>\n",
       "      <td>4.0</td>\n",
       "      <td>4</td>\n",
       "      <td>650000+</td>\n",
       "    </tr>\n",
       "    <tr>\n",
       "      <th>1</th>\n",
       "      <td>13380</td>\n",
       "      <td>austin</td>\n",
       "      <td>4644 Hoffman Dr, Austin, TX 78749 is a single ...</td>\n",
       "      <td>Single Family</td>\n",
       "      <td>30.199486</td>\n",
       "      <td>-97.859947</td>\n",
       "      <td>0</td>\n",
       "      <td>False</td>\n",
       "      <td>1997</td>\n",
       "      <td>0</td>\n",
       "      <td>6534.0</td>\n",
       "      <td>6.666667</td>\n",
       "      <td>16</td>\n",
       "      <td>3.0</td>\n",
       "      <td>4</td>\n",
       "      <td>350000-450000</td>\n",
       "    </tr>\n",
       "    <tr>\n",
       "      <th>2</th>\n",
       "      <td>4115</td>\n",
       "      <td>austin</td>\n",
       "      <td>6804 Canal St, Austin, TX 78741 is a single fa...</td>\n",
       "      <td>Single Family</td>\n",
       "      <td>30.227398</td>\n",
       "      <td>-97.696083</td>\n",
       "      <td>0</td>\n",
       "      <td>False</td>\n",
       "      <td>1952</td>\n",
       "      <td>0</td>\n",
       "      <td>5619.0</td>\n",
       "      <td>3.333333</td>\n",
       "      <td>11</td>\n",
       "      <td>1.0</td>\n",
       "      <td>2</td>\n",
       "      <td>0-250000</td>\n",
       "    </tr>\n",
       "    <tr>\n",
       "      <th>3</th>\n",
       "      <td>6926</td>\n",
       "      <td>austin</td>\n",
       "      <td>Beautiful large lot with established trees. Lo...</td>\n",
       "      <td>Single Family</td>\n",
       "      <td>30.205469</td>\n",
       "      <td>-97.792351</td>\n",
       "      <td>4</td>\n",
       "      <td>False</td>\n",
       "      <td>1976</td>\n",
       "      <td>0</td>\n",
       "      <td>6416.0</td>\n",
       "      <td>4.000000</td>\n",
       "      <td>14</td>\n",
       "      <td>2.0</td>\n",
       "      <td>4</td>\n",
       "      <td>0-250000</td>\n",
       "    </tr>\n",
       "    <tr>\n",
       "      <th>4</th>\n",
       "      <td>14480</td>\n",
       "      <td>austin</td>\n",
       "      <td>Stunning NW Hills designer remodel by Cedar an...</td>\n",
       "      <td>Single Family</td>\n",
       "      <td>30.345106</td>\n",
       "      <td>-97.767426</td>\n",
       "      <td>2</td>\n",
       "      <td>False</td>\n",
       "      <td>1984</td>\n",
       "      <td>0</td>\n",
       "      <td>10759.0</td>\n",
       "      <td>7.000000</td>\n",
       "      <td>16</td>\n",
       "      <td>3.0</td>\n",
       "      <td>5</td>\n",
       "      <td>650000+</td>\n",
       "    </tr>\n",
       "    <tr>\n",
       "      <th>...</th>\n",
       "      <td>...</td>\n",
       "      <td>...</td>\n",
       "      <td>...</td>\n",
       "      <td>...</td>\n",
       "      <td>...</td>\n",
       "      <td>...</td>\n",
       "      <td>...</td>\n",
       "      <td>...</td>\n",
       "      <td>...</td>\n",
       "      <td>...</td>\n",
       "      <td>...</td>\n",
       "      <td>...</td>\n",
       "      <td>...</td>\n",
       "      <td>...</td>\n",
       "      <td>...</td>\n",
       "      <td>...</td>\n",
       "    </tr>\n",
       "    <tr>\n",
       "      <th>9995</th>\n",
       "      <td>8614</td>\n",
       "      <td>austin</td>\n",
       "      <td>Updated Great Hills Opportunity! Large corner ...</td>\n",
       "      <td>Single Family</td>\n",
       "      <td>30.409927</td>\n",
       "      <td>-97.763390</td>\n",
       "      <td>2</td>\n",
       "      <td>False</td>\n",
       "      <td>1982</td>\n",
       "      <td>3</td>\n",
       "      <td>15246.0</td>\n",
       "      <td>7.000000</td>\n",
       "      <td>17</td>\n",
       "      <td>3.0</td>\n",
       "      <td>3</td>\n",
       "      <td>650000+</td>\n",
       "    </tr>\n",
       "    <tr>\n",
       "      <th>9996</th>\n",
       "      <td>10505</td>\n",
       "      <td>austin</td>\n",
       "      <td>Adorable 3/2 in the heart of South Austin! Sit...</td>\n",
       "      <td>Single Family</td>\n",
       "      <td>30.206074</td>\n",
       "      <td>-97.779472</td>\n",
       "      <td>0</td>\n",
       "      <td>False</td>\n",
       "      <td>1970</td>\n",
       "      <td>0</td>\n",
       "      <td>6577.0</td>\n",
       "      <td>4.000000</td>\n",
       "      <td>14</td>\n",
       "      <td>2.0</td>\n",
       "      <td>3</td>\n",
       "      <td>250000-350000</td>\n",
       "    </tr>\n",
       "    <tr>\n",
       "      <th>9997</th>\n",
       "      <td>6942</td>\n",
       "      <td>austin</td>\n",
       "      <td>7322 Gaines Mill Ln, Austin, TX 78745 is a sin...</td>\n",
       "      <td>Single Family</td>\n",
       "      <td>30.198936</td>\n",
       "      <td>-97.810913</td>\n",
       "      <td>0</td>\n",
       "      <td>False</td>\n",
       "      <td>1981</td>\n",
       "      <td>1</td>\n",
       "      <td>7623.0</td>\n",
       "      <td>4.000000</td>\n",
       "      <td>13</td>\n",
       "      <td>2.0</td>\n",
       "      <td>3</td>\n",
       "      <td>350000-450000</td>\n",
       "    </tr>\n",
       "    <tr>\n",
       "      <th>9998</th>\n",
       "      <td>1845</td>\n",
       "      <td>austin</td>\n",
       "      <td>5213 Doe Valley Ln, Austin, TX 78759 is a sing...</td>\n",
       "      <td>Single Family</td>\n",
       "      <td>30.391880</td>\n",
       "      <td>-97.761292</td>\n",
       "      <td>0</td>\n",
       "      <td>False</td>\n",
       "      <td>1979</td>\n",
       "      <td>2</td>\n",
       "      <td>13939.2</td>\n",
       "      <td>7.000000</td>\n",
       "      <td>17</td>\n",
       "      <td>3.0</td>\n",
       "      <td>3</td>\n",
       "      <td>250000-350000</td>\n",
       "    </tr>\n",
       "    <tr>\n",
       "      <th>9999</th>\n",
       "      <td>4425</td>\n",
       "      <td>austin</td>\n",
       "      <td>Beautiful single-story home with open floor pl...</td>\n",
       "      <td>Single Family</td>\n",
       "      <td>30.346609</td>\n",
       "      <td>-97.614983</td>\n",
       "      <td>1</td>\n",
       "      <td>False</td>\n",
       "      <td>2013</td>\n",
       "      <td>0</td>\n",
       "      <td>4878.0</td>\n",
       "      <td>5.000000</td>\n",
       "      <td>11</td>\n",
       "      <td>2.0</td>\n",
       "      <td>3</td>\n",
       "      <td>0-250000</td>\n",
       "    </tr>\n",
       "  </tbody>\n",
       "</table>\n",
       "<p>10000 rows × 16 columns</p>\n",
       "</div>"
      ],
      "text/plain": [
       "        uid    city                                        description  \\\n",
       "0      1748  austin  MULTIPLE OFFERS submit best & final to Agent b...   \n",
       "1     13380  austin  4644 Hoffman Dr, Austin, TX 78749 is a single ...   \n",
       "2      4115  austin  6804 Canal St, Austin, TX 78741 is a single fa...   \n",
       "3      6926  austin  Beautiful large lot with established trees. Lo...   \n",
       "4     14480  austin  Stunning NW Hills designer remodel by Cedar an...   \n",
       "...     ...     ...                                                ...   \n",
       "9995   8614  austin  Updated Great Hills Opportunity! Large corner ...   \n",
       "9996  10505  austin  Adorable 3/2 in the heart of South Austin! Sit...   \n",
       "9997   6942  austin  7322 Gaines Mill Ln, Austin, TX 78745 is a sin...   \n",
       "9998   1845  austin  5213 Doe Valley Ln, Austin, TX 78759 is a sing...   \n",
       "9999   4425  austin  Beautiful single-story home with open floor pl...   \n",
       "\n",
       "           homeType   latitude  longitude  garageSpaces  hasSpa  yearBuilt  \\\n",
       "0     Single Family  30.380089 -97.800621             0   False       1988   \n",
       "1     Single Family  30.199486 -97.859947             0   False       1997   \n",
       "2     Single Family  30.227398 -97.696083             0   False       1952   \n",
       "3     Single Family  30.205469 -97.792351             4   False       1976   \n",
       "4     Single Family  30.345106 -97.767426             2   False       1984   \n",
       "...             ...        ...        ...           ...     ...        ...   \n",
       "9995  Single Family  30.409927 -97.763390             2   False       1982   \n",
       "9996  Single Family  30.206074 -97.779472             0   False       1970   \n",
       "9997  Single Family  30.198936 -97.810913             0   False       1981   \n",
       "9998  Single Family  30.391880 -97.761292             0   False       1979   \n",
       "9999  Single Family  30.346609 -97.614983             1   False       2013   \n",
       "\n",
       "      numOfPatioAndPorchFeatures  lotSizeSqFt  avgSchoolRating  \\\n",
       "0                              0     102366.0         7.000000   \n",
       "1                              0       6534.0         6.666667   \n",
       "2                              0       5619.0         3.333333   \n",
       "3                              0       6416.0         4.000000   \n",
       "4                              0      10759.0         7.000000   \n",
       "...                          ...          ...              ...   \n",
       "9995                           3      15246.0         7.000000   \n",
       "9996                           0       6577.0         4.000000   \n",
       "9997                           1       7623.0         4.000000   \n",
       "9998                           2      13939.2         7.000000   \n",
       "9999                           0       4878.0         5.000000   \n",
       "\n",
       "      MedianStudentsPerTeacher  numOfBathrooms  numOfBedrooms     priceRange  \n",
       "0                           17             4.0              4        650000+  \n",
       "1                           16             3.0              4  350000-450000  \n",
       "2                           11             1.0              2       0-250000  \n",
       "3                           14             2.0              4       0-250000  \n",
       "4                           16             3.0              5        650000+  \n",
       "...                        ...             ...            ...            ...  \n",
       "9995                        17             3.0              3        650000+  \n",
       "9996                        14             2.0              3  250000-350000  \n",
       "9997                        13             2.0              3  350000-450000  \n",
       "9998                        17             3.0              3  250000-350000  \n",
       "9999                        11             2.0              3       0-250000  \n",
       "\n",
       "[10000 rows x 16 columns]"
      ]
     },
     "execution_count": 19,
     "metadata": {},
     "output_type": "execute_result"
    }
   ],
   "source": [
    "df = pd.read_csv('../data/train.csv')\n",
    "df"
   ]
  },
  {
   "cell_type": "code",
   "execution_count": 7,
   "metadata": {},
   "outputs": [
    {
     "name": "stdout",
     "output_type": "stream",
     "text": [
      "<class 'pandas.core.frame.DataFrame'>\n",
      "RangeIndex: 10000 entries, 0 to 9999\n",
      "Data columns (total 16 columns):\n",
      " #   Column                      Non-Null Count  Dtype  \n",
      "---  ------                      --------------  -----  \n",
      " 0   uid                         10000 non-null  int64  \n",
      " 1   city                        10000 non-null  object \n",
      " 2   description                 9999 non-null   object \n",
      " 3   homeType                    10000 non-null  object \n",
      " 4   latitude                    10000 non-null  float64\n",
      " 5   longitude                   10000 non-null  float64\n",
      " 6   garageSpaces                10000 non-null  int64  \n",
      " 7   hasSpa                      10000 non-null  bool   \n",
      " 8   yearBuilt                   10000 non-null  int64  \n",
      " 9   numOfPatioAndPorchFeatures  10000 non-null  int64  \n",
      " 10  lotSizeSqFt                 10000 non-null  float64\n",
      " 11  avgSchoolRating             10000 non-null  float64\n",
      " 12  MedianStudentsPerTeacher    10000 non-null  int64  \n",
      " 13  numOfBathrooms              10000 non-null  float64\n",
      " 14  numOfBedrooms               10000 non-null  int64  \n",
      " 15  priceRange                  10000 non-null  object \n",
      "dtypes: bool(1), float64(5), int64(6), object(4)\n",
      "memory usage: 1.2+ MB\n"
     ]
    }
   ],
   "source": [
    "df.info()"
   ]
  },
  {
   "cell_type": "markdown",
   "metadata": {},
   "source": [
    " ## feature selection"
   ]
  },
  {
   "cell_type": "markdown",
   "metadata": {},
   "source": [
    "### objetive variable"
   ]
  },
  {
   "cell_type": "code",
   "execution_count": 20,
   "metadata": {
    "tags": []
   },
   "outputs": [
    {
     "data": {
      "text/html": [
       "<div>\n",
       "<style scoped>\n",
       "    .dataframe tbody tr th:only-of-type {\n",
       "        vertical-align: middle;\n",
       "    }\n",
       "\n",
       "    .dataframe tbody tr th {\n",
       "        vertical-align: top;\n",
       "    }\n",
       "\n",
       "    .dataframe thead th {\n",
       "        text-align: right;\n",
       "    }\n",
       "</style>\n",
       "<table border=\"1\" class=\"dataframe\">\n",
       "  <thead>\n",
       "    <tr style=\"text-align: right;\">\n",
       "      <th></th>\n",
       "      <th>count</th>\n",
       "      <th>mean</th>\n",
       "      <th>std</th>\n",
       "      <th>min</th>\n",
       "      <th>25%</th>\n",
       "      <th>50%</th>\n",
       "      <th>75%</th>\n",
       "      <th>max</th>\n",
       "    </tr>\n",
       "  </thead>\n",
       "  <tbody>\n",
       "    <tr>\n",
       "      <th>priceRange</th>\n",
       "      <td>10000.0</td>\n",
       "      <td>2.2696</td>\n",
       "      <td>1.334726</td>\n",
       "      <td>0.0</td>\n",
       "      <td>1.0</td>\n",
       "      <td>2.0</td>\n",
       "      <td>3.0</td>\n",
       "      <td>4.0</td>\n",
       "    </tr>\n",
       "  </tbody>\n",
       "</table>\n",
       "</div>"
      ],
      "text/plain": [
       "              count    mean       std  min  25%  50%  75%  max\n",
       "priceRange  10000.0  2.2696  1.334726  0.0  1.0  2.0  3.0  4.0"
      ]
     },
     "execution_count": 20,
     "metadata": {},
     "output_type": "execute_result"
    }
   ],
   "source": [
    "priceRange_map = {i: priceRange for priceRange,i in df['priceRange'].value_counts().sort_values().reset_index().to_dict()['priceRange'].items()}\n",
    "priceRange_map\n",
    "maps_dict = {'priceRange': priceRange_map}\n",
    "df['priceRange'] = df['priceRange'].map(maps_dict['priceRange'])\n",
    "\n",
    "df[['priceRange']].describe().T"
   ]
  },
  {
   "cell_type": "markdown",
   "metadata": {},
   "source": [
    "### predictive features"
   ]
  },
  {
   "cell_type": "code",
   "execution_count": 22,
   "metadata": {
    "tags": []
   },
   "outputs": [
    {
     "data": {
      "text/plain": [
       "7016    NaN\n",
       "Name: description, dtype: object"
      ]
     },
     "execution_count": 22,
     "metadata": {},
     "output_type": "execute_result"
    }
   ],
   "source": [
    "ind = df[df['description'].isnull()==True]['description'].index\n",
    "df[df['description'].isnull()==True]['description']"
   ]
  },
  {
   "cell_type": "code",
   "execution_count": 23,
   "metadata": {
    "tags": []
   },
   "outputs": [],
   "source": [
    "df.loc[ind,'description'] = ''"
   ]
  },
  {
   "cell_type": "code",
   "execution_count": 24,
   "metadata": {
    "tags": []
   },
   "outputs": [
    {
     "data": {
      "text/plain": [
       "Series([], Name: description, dtype: object)"
      ]
     },
     "execution_count": 24,
     "metadata": {},
     "output_type": "execute_result"
    }
   ],
   "source": [
    "df[df['description'].isnull()==True]['description']"
   ]
  },
  {
   "cell_type": "code",
   "execution_count": 56,
   "metadata": {},
   "outputs": [
    {
     "name": "stdout",
     "output_type": "stream",
     "text": [
      "CPU times: user 2min 13s, sys: 299 ms, total: 2min 13s\n",
      "Wall time: 2min 13s\n"
     ]
    },
    {
     "data": {
      "text/plain": [
       "0       [-0.002062, 0.0001404, 0.003252, 0.00869, -0.0...\n",
       "1       [-0.05307, 0.03357, 0.03827, -0.004963, -0.058...\n",
       "2       [-0.04034, 0.02864, 0.0352, 0.01851, -0.0503, ...\n",
       "3       [-0.01447, 0.04117, 0.014435, 0.001357, -0.066...\n",
       "4       [-0.01269, 0.02371, -0.02359, -0.00721, -0.024...\n",
       "                              ...                        \n",
       "9995    [-0.010056, 0.0513, 0.0211, 0.01463, -0.0674, ...\n",
       "9996    [-0.01569, 0.01171, 0.02174, 0.01979, -0.03065...\n",
       "9997    [-0.0463, 0.052, 0.04196, 0.01709, -0.06274, 0...\n",
       "9998    [-0.05347, 0.03069, 0.04333, 0.012215, -0.0591...\n",
       "9999    [-0.012146, 0.03958, -0.006634, 0.00769, -0.05...\n",
       "Name: embedded_description, Length: 10000, dtype: object"
      ]
     },
     "execution_count": 56,
     "metadata": {},
     "output_type": "execute_result"
    }
   ],
   "source": [
    "%%time\n",
    "df['embedded_description'] = df['description'].apply(lambda x: list(get_prompt_embeddings(x)[0].cpu().flatten().numpy()))\n",
    "df['embedded_description']"
   ]
  },
  {
   "cell_type": "code",
   "execution_count": 57,
   "metadata": {
    "tags": []
   },
   "outputs": [
    {
     "data": {
      "text/plain": [
       "768"
      ]
     },
     "execution_count": 57,
     "metadata": {},
     "output_type": "execute_result"
    }
   ],
   "source": [
    "len(df['embedded_description'][0])"
   ]
  },
  {
   "cell_type": "markdown",
   "metadata": {},
   "source": [
    " # sampling"
   ]
  },
  {
   "cell_type": "code",
   "execution_count": 67,
   "metadata": {},
   "outputs": [
    {
     "name": "stdout",
     "output_type": "stream",
     "text": [
      "X shape: (10000, 768) y shape: (10000,)\n"
     ]
    }
   ],
   "source": [
    "X = np.array(list(df['embedded_description']))\n",
    "y = np.array(list(df['priceRange']))\n",
    "print(f'X shape: {X.shape} y shape: {y.shape}')"
   ]
  },
  {
   "cell_type": "code",
   "execution_count": 68,
   "metadata": {},
   "outputs": [],
   "source": [
    "X_train, X_test, y_train, y_test = train_test_split(X, y, test_size=0.30, random_state=2025)"
   ]
  },
  {
   "cell_type": "markdown",
   "metadata": {},
   "source": [
    " # modeling"
   ]
  },
  {
   "cell_type": "code",
   "execution_count": 69,
   "metadata": {
    "tags": []
   },
   "outputs": [],
   "source": [
    "rf=RandomForestClassifier(\n",
    "    random_state=2023,\n",
    "    n_jobs=-1,\n",
    "    class_weight='balanced'\n",
    ")\n",
    "#multilabel_et = OneVsOneClassifier(et)\n",
    "multilabel_rf = OneVsRestClassifier(rf)"
   ]
  },
  {
   "cell_type": "code",
   "execution_count": 70,
   "metadata": {
    "tags": []
   },
   "outputs": [],
   "source": [
    "param_grid={\n",
    "    'estimator__max_features':  ['sqrt', 'log2'],\n",
    "    'estimator__max_depth' : range(5,25,5),\n",
    "    'estimator__min_samples_leaf': [0.001,0.1,0.25,0.5],\n",
    "    'estimator__min_samples_split': range(15,60,5),\n",
    "    'estimator__criterion' :['gini', 'entropy'],\n",
    "   'estimator__n_estimators': range(50,200,25),\n",
    "}"
   ]
  },
  {
   "cell_type": "code",
   "execution_count": 71,
   "metadata": {
    "tags": []
   },
   "outputs": [
    {
     "name": "stdout",
     "output_type": "stream",
     "text": [
      "CPU times: user 3d 22h 41min 34s, sys: 2h 45min 10s, total: 4d 1h 26min 45s\n",
      "Wall time: 21h 28min 7s\n"
     ]
    },
    {
     "data": {
      "text/plain": [
       "GridSearchCV(cv=5,\n",
       "             estimator=OneVsRestClassifier(estimator=RandomForestClassifier(class_weight='balanced',\n",
       "                                                                            n_jobs=-1,\n",
       "                                                                            random_state=2023)),\n",
       "             param_grid={'estimator__criterion': ['gini', 'entropy'],\n",
       "                         'estimator__max_depth': range(5, 25, 5),\n",
       "                         'estimator__max_features': ['sqrt', 'log2'],\n",
       "                         'estimator__min_samples_leaf': [0.001, 0.1, 0.25, 0.5],\n",
       "                         'estimator__min_samples_split': range(15, 60, 5),\n",
       "                         'estimator__n_estimators': range(50, 200, 25)},\n",
       "             scoring='accuracy')"
      ]
     },
     "execution_count": 71,
     "metadata": {},
     "output_type": "execute_result"
    }
   ],
   "source": [
    "%%time\n",
    "CV_rfc = GridSearchCV(\n",
    "    estimator=multilabel_rf, \n",
    "    param_grid=param_grid, \n",
    "    scoring='accuracy', \n",
    "    cv= 5\n",
    ")\n",
    "CV_rfc.fit(X_train, y_train)"
   ]
  },
  {
   "cell_type": "code",
   "execution_count": null,
   "metadata": {
    "tags": []
   },
   "outputs": [
    {
     "name": "stdout",
     "output_type": "stream",
     "text": [
      "Best: 0.377857 using {'estimator__criterion': 'entropy', 'estimator__max_depth': 15, 'estimator__max_features': 'sqrt', 'estimator__min_samples_leaf': 0.001, 'estimator__min_samples_split': 50, 'estimator__n_estimators': 150}\n"
     ]
    }
   ],
   "source": [
    "print(\"Best: %f using %s\" % (CV_rfc.best_score_, CV_rfc.best_params_))"
   ]
  },
  {
   "cell_type": "code",
   "execution_count": null,
   "metadata": {
    "tags": []
   },
   "outputs": [
    {
     "name": "stdout",
     "output_type": "stream",
     "text": [
      "Accuracy for Random Forest on CV data:  0.3586666666666667\n"
     ]
    }
   ],
   "source": [
    "y_hat = CV_rfc.predict(X_test)\n",
    "print(\"Accuracy for Random Forest on CV data: \",accuracy_score(y_test,y_hat))"
   ]
  },
  {
   "cell_type": "code",
   "execution_count": null,
   "metadata": {
    "tags": []
   },
   "outputs": [
    {
     "name": "stdout",
     "output_type": "stream",
     "text": [
      "f1 score for Random Forest on CV data:  0.3586666666666667\n"
     ]
    }
   ],
   "source": [
    "print(\"f1 score for Random Forest on CV data: \",f1_score(y_test,y_hat, average='micro'))"
   ]
  },
  {
   "cell_type": "code",
   "execution_count": null,
   "metadata": {
    "tags": []
   },
   "outputs": [
    {
     "name": "stdout",
     "output_type": "stream",
     "text": [
      "              precision    recall  f1-score   support\n",
      "\n",
      "           0       0.29      0.13      0.18       362\n",
      "           1       0.47      0.49      0.48       550\n",
      "           2       0.31      0.33      0.32       642\n",
      "           3       0.30      0.32      0.31       698\n",
      "           4       0.39      0.43      0.41       748\n",
      "\n",
      "    accuracy                           0.36      3000\n",
      "   macro avg       0.35      0.34      0.34      3000\n",
      "weighted avg       0.35      0.36      0.35      3000\n",
      "\n"
     ]
    }
   ],
   "source": [
    "print(classification_report(y_test, y_hat))"
   ]
  },
  {
   "cell_type": "markdown",
   "metadata": {},
   "source": [
    " # Save model"
   ]
  },
  {
   "cell_type": "code",
   "execution_count": null,
   "metadata": {
    "tags": []
   },
   "outputs": [
    {
     "name": "stdout",
     "output_type": "stream",
     "text": [
      " Stored model: ../data/1738214297_rf_op768.pkl\n"
     ]
    }
   ],
   "source": [
    "timestamp = int(datetime.utcnow().timestamp())\n",
    "pathfile = f'../data/{timestamp}_rf_op768.pkl'\n",
    "print(f' Stored model: {pathfile}')\n",
    "pickle.dump(CV_rfc, open(pathfile, \"wb\"))"
   ]
  },
  {
   "cell_type": "markdown",
   "metadata": {},
   "source": [
    " # Validation\n",
    "# local model"
   ]
  },
  {
   "cell_type": "code",
   "execution_count": 77,
   "metadata": {
    "tags": []
   },
   "outputs": [],
   "source": [
    "pkl_filename_local = '../data/1738214297_rf_op768.pkl'\n",
    "with open(pkl_filename_local, 'rb') as file:\n",
    "    uploaded_CV_rfc_local = pickle.load(file)"
   ]
  },
  {
   "cell_type": "code",
   "execution_count": 78,
   "metadata": {
    "tags": []
   },
   "outputs": [
    {
     "name": "stdout",
     "output_type": "stream",
     "text": [
      "Test f1_score: 35.8667 %\n"
     ]
    }
   ],
   "source": [
    "y_hat_dtc = uploaded_CV_rfc_local.predict(X_test)\n",
    "print(\"Test f1_score: {0:.4f} %\".format(100 * f1_score(y_test,y_hat_dtc, average='micro')))"
   ]
  },
  {
   "cell_type": "code",
   "execution_count": 79,
   "metadata": {
    "tags": []
   },
   "outputs": [
    {
     "name": "stdout",
     "output_type": "stream",
     "text": [
      "Test f1_score: 33.9577 %\n"
     ]
    }
   ],
   "source": [
    "print(\"Test f1_score: {0:.4f} %\".format(100 * f1_score(y_test,y_hat_dtc, average='macro')))"
   ]
  },
  {
   "cell_type": "code",
   "execution_count": 80,
   "metadata": {
    "tags": []
   },
   "outputs": [
    {
     "name": "stdout",
     "output_type": "stream",
     "text": [
      "              precision    recall  f1-score   support\n",
      "\n",
      "           0       0.29      0.13      0.18       362\n",
      "           1       0.47      0.49      0.48       550\n",
      "           2       0.31      0.33      0.32       642\n",
      "           3       0.30      0.32      0.31       698\n",
      "           4       0.39      0.43      0.41       748\n",
      "\n",
      "    accuracy                           0.36      3000\n",
      "   macro avg       0.35      0.34      0.34      3000\n",
      "weighted avg       0.35      0.36      0.35      3000\n",
      "\n"
     ]
    }
   ],
   "source": [
    "print(classification_report(y_test, y_hat_dtc))"
   ]
  },
  {
   "cell_type": "code",
   "execution_count": null,
   "metadata": {},
   "outputs": [],
   "source": []
  }
 ],
 "metadata": {
  "kernelspec": {
   "display_name": "Python 3 (ipykernel)",
   "language": "python",
   "name": "python3"
  },
  "language_info": {
   "codemirror_mode": {
    "name": "ipython",
    "version": 3
   },
   "file_extension": ".py",
   "mimetype": "text/x-python",
   "name": "python",
   "nbconvert_exporter": "python",
   "pygments_lexer": "ipython3",
   "version": "3.10.4"
  }
 },
 "nbformat": 4,
 "nbformat_minor": 4
}
